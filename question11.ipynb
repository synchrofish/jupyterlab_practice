{
 "cells": [
  {
   "cell_type": "markdown",
   "id": "fe9dad7a-9468-40ca-b46b-2caf731a32d0",
   "metadata": {},
   "source": [
    "# Gosia K\n",
    "Notebook for assignment 7"
   ]
  },
  {
   "cell_type": "code",
   "execution_count": 3,
   "id": "6ca425c1-d988-4b20-b11d-bf72e1cd7d5b",
   "metadata": {},
   "outputs": [
    {
     "data": {
      "text/plain": [
       "5.0"
      ]
     },
     "execution_count": 3,
     "metadata": {},
     "output_type": "execute_result"
    }
   ],
   "source": [
    "def compute_mean(numerical_list):\n",
    "    '''\n",
    "    Calculate the mean value of the numbers in a list\n",
    "    \n",
    "    Parameters\n",
    "    ----------\n",
    "    numerical_list : list\n",
    "        The list from which to calculate the mean value\n",
    "        \n",
    "    Returns\n",
    "    -------\n",
    "    float\n",
    "        The mean value of given numbers in the numerical_list\n",
    "        \n",
    "    Examples\n",
    "    --------\n",
    "    >>> compute_mean([1, 2, 3])\n",
    "    2.0\n",
    "    '''\n",
    "    \n",
    "    sum_numbers = 0.0\n",
    "    counter = 0\n",
    "    \n",
    "    for number in numerical_list:\n",
    "        sum_numbers = sum_numbers + number\n",
    "        counter = counter + 1\n",
    "        \n",
    "    mean = sum_numbers/counter\n",
    "   \n",
    "    return mean\n",
    "\n",
    "    \n",
    "compute_mean([2, 4, 6, 8])    "
   ]
  },
  {
   "cell_type": "markdown",
   "id": "3e4e01f0-86df-4a4e-a36c-ad9b3436ba05",
   "metadata": {},
   "source": [
    "The code above calculates a mean value of numbers given in a list.\n",
    "In general, the mean value is calculated as shown below:\n",
    "\n",
    "$$\n",
    "\\overline{x} = \\frac{x_1 + x_2 + \\cdots + x_n}{n} = \\frac{1}{n}\\left(\\sum_{i=1}^{n}x_i\\right)\n",
    "$$"
   ]
  }
 ],
 "metadata": {
  "kernelspec": {
   "display_name": "Python [conda env:jupyter_practice]",
   "language": "python",
   "name": "conda-env-jupyter_practice-py"
  },
  "language_info": {
   "codemirror_mode": {
    "name": "ipython",
    "version": 3
   },
   "file_extension": ".py",
   "mimetype": "text/x-python",
   "name": "python",
   "nbconvert_exporter": "python",
   "pygments_lexer": "ipython3",
   "version": "3.9.16"
  }
 },
 "nbformat": 4,
 "nbformat_minor": 5
}
